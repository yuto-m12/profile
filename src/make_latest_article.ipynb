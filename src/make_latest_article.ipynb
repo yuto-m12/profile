{
 "cells": [
  {
   "cell_type": "code",
   "execution_count": 2,
   "metadata": {},
   "outputs": [
    {
     "name": "stdout",
     "output_type": "stream",
     "text": [
      "        <a href=\"https://zenn.dev/yuto_mo/articles/6dd6293d559311\" target=\"_blank\">\n",
      "          <p class=\"ellipsis articles_latest\">・【WebApp】家から出るまで鳴り止まない目覚ましアプリを作った</p>\n",
      "        </a>\n",
      "        <a href=\"https://zenn.dev/yuto_mo/articles/9808148fb5fb99\" target=\"_blank\">\n",
      "          <p class=\"ellipsis articles_latest\">・【Kaggle】BirdCLEF2024 29位🥈 振り返り</p>\n",
      "        </a>\n",
      "        <a href=\"https://zenn.dev/yuto_mo/articles/faef74147012df\" target=\"_blank\">\n",
      "          <p class=\"ellipsis articles_latest\">・【Kaggle Method】ISIC2024 9th solution explained</p>\n",
      "        </a>\n",
      "        <a href=\"https://zenn.dev/yuto_mo/articles/d2c5c56cfd8204\" target=\"_blank\">\n",
      "          <p class=\"ellipsis articles_latest\">・【Optimization Method】Optuna Tutorial part3</p>\n",
      "        </a>\n",
      "\n"
     ]
    }
   ],
   "source": [
    "# Input\n",
    "input_data = \"\"\"\n",
    "🐬\n",
    "【WebApp】家から出るまで鳴り止まない目覚ましアプリを作った\n",
    "3時間前\n",
    "tech\n",
    "🕊️\n",
    "【Kaggle】BirdCLEF2024 29位🥈 振り返り\n",
    "1日前\n",
    "tech\n",
    "🐊\n",
    "【Kaggle Method】ISIC2024 9th solution explained\n",
    "2日前\n",
    "tech\n",
    "🐫\n",
    "【Optimization Method】Optuna Tutorial part3\n",
    "3日前\n",
    "\n",
    "https://zenn.dev/yuto_mo/articles/6dd6293d559311\n",
    "https://zenn.dev/yuto_mo/articles/9808148fb5fb99\n",
    "https://zenn.dev/yuto_mo/articles/faef74147012df\n",
    "https://zenn.dev/yuto_mo/articles/d2c5c56cfd8204\n",
    "\"\"\"\n",
    "\n",
    "# Processing\n",
    "lines = input_data.strip().splitlines()\n",
    "articles = []\n",
    "\n",
    "# Extract Links\n",
    "urls = lines[-4:]\n",
    "\n",
    "# Extract info\n",
    "for i in range(0, len(lines) - 4, 4):\n",
    "    emoji = lines[i].strip()\n",
    "    title = lines[i + 1].strip()\n",
    "    time_ago = lines[i + 2].strip()\n",
    "    category = lines[i + 3].strip()\n",
    "    url = urls[i // 4].strip()\n",
    "\n",
    "    articles.append({\n",
    "        \"emoji\": emoji,\n",
    "        \"title\": title,\n",
    "        \"time_ago\": time_ago,\n",
    "        \"category\": category,\n",
    "        \"url\": url\n",
    "    })\n",
    "\n",
    "# HTML generation\n",
    "html_output = \"\"\n",
    "for article in articles:\n",
    "    html_output += f'        <a href=\"{article[\"url\"]}\" target=\"_blank\">\\n'\n",
    "    html_output += f'          <p class=\"ellipsis articles_latest\">・{article[\"title\"]}</p>\\n'\n",
    "    html_output += f'        </a>\\n'\n",
    "\n",
    "# show results\n",
    "print(html_output)\n"
   ]
  },
  {
   "cell_type": "code",
   "execution_count": null,
   "metadata": {},
   "outputs": [],
   "source": []
  }
 ],
 "metadata": {
  "kernelspec": {
   "display_name": "base",
   "language": "python",
   "name": "python3"
  },
  "language_info": {
   "codemirror_mode": {
    "name": "ipython",
    "version": 3
   },
   "file_extension": ".py",
   "mimetype": "text/x-python",
   "name": "python",
   "nbconvert_exporter": "python",
   "pygments_lexer": "ipython3",
   "version": "3.9.12"
  }
 },
 "nbformat": 4,
 "nbformat_minor": 2
}
